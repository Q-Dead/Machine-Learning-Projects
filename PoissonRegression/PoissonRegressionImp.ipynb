{
 "cells": [
  {
   "cell_type": "code",
   "execution_count": 1,
   "metadata": {},
   "outputs": [],
   "source": [
    "from dotenv import load_dotenv\n",
    "import os\n",
    "\n",
    "import numpy as np\n",
    "import pandas as pd\n",
    "import matplotlib.pyplot as plt\n",
    "\n",
    "from sqlalchemy import create_engine, text\n",
    "\n",
    "from PoissonRegression import PoissonRegressionAlgo"
   ]
  },
  {
   "cell_type": "code",
   "execution_count": 2,
   "metadata": {},
   "outputs": [],
   "source": [
    "load_dotenv() \n",
    "connection_string = os.getenv('DB_CONNECTION_STRING')\n",
    "\n",
    "\n",
    "# Establish the connection\n",
    "engine = create_engine(connection_string)\n",
    "\n",
    "stored_procedure = text(\"EXEC GetPoissonSimTable\")\n",
    "\n",
    "with engine.connect() as connection:\n",
    "    result = connection.execute(stored_procedure)\n",
    "    poisson_df = pd.DataFrame(result.fetchall())"
   ]
  },
  {
   "cell_type": "code",
   "execution_count": 3,
   "metadata": {},
   "outputs": [
    {
     "data": {
      "text/plain": [
       "Index(['num_awards', 'prog', 'math'], dtype='object')"
      ]
     },
     "execution_count": 3,
     "metadata": {},
     "output_type": "execute_result"
    }
   ],
   "source": [
    "poisson_df = poisson_df[[\"num_awards\",\"prog\",\"math\"]].astype(float)\n",
    "poisson_df.columns"
   ]
  },
  {
   "cell_type": "code",
   "execution_count": 4,
   "metadata": {},
   "outputs": [
    {
     "data": {
      "image/png": "[encoded data removed]",
      "text/plain": [
       "<Figure size 640x480 with 1 Axes>"
      ]
     },
     "metadata": {},
     "output_type": "display_data"
    }
   ],
   "source": [
    "plt.hist(poisson_df['num_awards'], bins=6);"
   ]
  },
  {
   "cell_type": "code",
   "execution_count": 5,
   "metadata": {},
   "outputs": [],
   "source": [
    "from sklearn.model_selection import train_test_split\n",
    "\n",
    "X_train, X_test, y_train, y_test = train_test_split(poisson_df[['prog', 'math']], poisson_df[\"num_awards\"], random_state=46, test_size=0.2)\n",
    "poisson_model = PoissonRegressionAlgo()\n",
    "poisson_model.fit(np.array(X_train), np.array(y_train))\n",
    "poisson_pred = poisson_model.predict(np.array(X_test))"
   ]
  },
  {
   "cell_type": "code",
   "execution_count": 6,
   "metadata": {},
   "outputs": [
    {
     "data": {
      "text/plain": [
       "array([0.99545101, 0.75979417, 0.48306995, 1.26563314, 0.45492315,\n",
       "       1.81922238, 1.47057711, 0.56129347, 1.38855106, 1.05704111,\n",
       "       1.561564  , 1.26563314, 0.39152371, 1.71322264, 0.93744955,\n",
       "       0.48306995, 1.1566444 , 0.54469576, 1.43086232, 1.19188911,\n",
       "       1.60914723, 1.51939199, 1.66256185, 0.78294625, 1.99064478,\n",
       "       0.67205675, 1.19503848, 1.12540775, 0.71363794, 1.26897736,\n",
       "       0.78294625, 1.3041989 , 0.7808829 , 1.76077458, 0.96601507,\n",
       "       0.80467759, 0.46878535, 1.26897736, 0.48306995, 1.19188911])"
      ]
     },
     "execution_count": 6,
     "metadata": {},
     "output_type": "execute_result"
    }
   ],
   "source": [
    "poisson_pred"
   ]
  },
  {
   "cell_type": "code",
   "execution_count": null,
   "metadata": {},
   "outputs": [],
   "source": []
  }
 ],
 "metadata": {
  "kernelspec": {
   "display_name": ".venv",
   "language": "python",
   "name": "python3"
  },
  "language_info": {
   "codemirror_mode": {
    "name": "ipython",
    "version": 3
   },
   "file_extension": ".py",
   "mimetype": "text/x-python",
   "name": "python",
   "nbconvert_exporter": "python",
   "pygments_lexer": "ipython3",
   "version": "3.12.4"
  }
 },
 "nbformat": 4,
 "nbformat_minor": 2
}
